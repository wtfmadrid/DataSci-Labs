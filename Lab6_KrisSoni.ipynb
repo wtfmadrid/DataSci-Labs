{
 "cells": [
  {
   "cell_type": "markdown",
   "id": "dd9d5c4f",
   "metadata": {},
   "source": [
    "# OR FUNCTION"
   ]
  },
  {
   "cell_type": "code",
   "execution_count": 3,
   "id": "b1994fcc",
   "metadata": {},
   "outputs": [
    {
     "name": "stdout",
     "output_type": "stream",
     "text": [
      "Predicted OR for: [0 0] -> [0]\n",
      "Predicted OR for: [1 0] -> [1]\n",
      "Predicted OR for: [0 1] -> [1]\n",
      "Predicted OR for: [1 1] -> [1]\n"
     ]
    }
   ],
   "source": [
    "import numpy as np\n",
    "from sklearn.linear_model import Perceptron\n",
    "X = np.array([[0, 0], [0, 1], [1, 0], [1, 1]])\n",
    "Y = np.array([0, 1, 1, 1])\n",
    "clf = Perceptron(tol=1e-3, random_state=0)\n",
    "clf.fit(X, Y)\n",
    "a1 = np.array([0, 0])\n",
    "a2 = np.array([1, 0])\n",
    "a3 = np.array([0, 1])\n",
    "a4 = np.array([1, 1])\n",
    "predict_array = np.array([a1, a2, a3, a4])\n",
    "\n",
    "for n in predict_array:\n",
    "    predicted = clf.predict([n])\n",
    "    print(f\"Predicted OR for: {n} -> {predicted}\")"
   ]
  },
  {
   "cell_type": "markdown",
   "id": "f1ce5cb8",
   "metadata": {},
   "source": [
    "# AND FUNCTION"
   ]
  },
  {
   "cell_type": "code",
   "execution_count": 4,
   "id": "1e3e5166",
   "metadata": {},
   "outputs": [
    {
     "name": "stdout",
     "output_type": "stream",
     "text": [
      "Predicted AND for: [0 0] -> [0]\n",
      "Predicted AND for: [1 0] -> [0]\n",
      "Predicted AND for: [0 1] -> [0]\n",
      "Predicted AND for: [1 1] -> [1]\n"
     ]
    }
   ],
   "source": [
    "X = np.array([[0, 0], [0, 1], [1, 0], [1, 1]])\n",
    "Y = np.array([0, 0, 0, 1])\n",
    "clf = Perceptron(tol=1e-3, random_state=0)\n",
    "clf.fit(X, Y)\n",
    "a1 = np.array([0, 0])\n",
    "a2 = np.array([1, 0])\n",
    "a3 = np.array([0, 1])\n",
    "a4 = np.array([1, 1])\n",
    "predict_array = np.array([a1, a2, a3, a4])\n",
    "\n",
    "for n in predict_array:\n",
    "    predicted = clf.predict([n])\n",
    "    print(f\"Predicted AND for: {n} -> {predicted}\")"
   ]
  },
  {
   "cell_type": "code",
   "execution_count": null,
   "id": "be3c4619",
   "metadata": {},
   "outputs": [],
   "source": []
  }
 ],
 "metadata": {
  "kernelspec": {
   "display_name": "Python 3 (ipykernel)",
   "language": "python",
   "name": "python3"
  },
  "language_info": {
   "codemirror_mode": {
    "name": "ipython",
    "version": 3
   },
   "file_extension": ".py",
   "mimetype": "text/x-python",
   "name": "python",
   "nbconvert_exporter": "python",
   "pygments_lexer": "ipython3",
   "version": "3.10.9"
  }
 },
 "nbformat": 4,
 "nbformat_minor": 5
}
